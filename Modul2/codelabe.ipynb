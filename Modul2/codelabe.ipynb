{
 "cells": [
  {
   "cell_type": "code",
   "execution_count": 35,
   "metadata": {},
   "outputs": [
    {
     "name": "stdout",
     "output_type": "stream",
     "text": [
      "Nilai Mobile ditambahkan 15. \n",
      "Total nilai Mobile saat ini 70\n",
      "Nilai awal:  [{'matkul': 'Fungsional', 'nilai': 95}, {'matkul': 'Mobile', 'nilai': 55}]\n",
      "Nilai update:  [{'matkul': 'Fungsional', 'nilai': 95}, {'matkul': 'Mobile', 'nilai': 70}]\n"
     ]
    }
   ],
   "source": [
    "nilai = [\n",
    "    {'matkul': 'Fungsional', 'nilai': 95},\n",
    "    {'matkul': 'Mobile', 'nilai': 55}\n",
    "]\n",
    "\n",
    "def tambah_nilai(nama_matkul, jumlah_nilai, daftar_nilai): # TO-DO 1, input fungsi\n",
    "    # global nilai # TO-DO 3, proses fungsi harus effect-free (tidak boleh mengakses global)\n",
    "    daftar_nilai_baru = []\n",
    "    for item in daftar_nilai:\n",
    "        if item['matkul'] == nama_matkul:\n",
    "            # Buat salinan dict dengan nilai yang diperbarui\n",
    "            item_baru = item.copy()\n",
    "            item_baru['nilai'] += jumlah_nilai\n",
    "            daftar_nilai_baru.append(item_baru)\n",
    "            print(f\"Nilai {nama_matkul} ditambahkan {jumlah_nilai}. \\nTotal nilai {nama_matkul} saat ini {item_baru['nilai']}\")\n",
    "        else:\n",
    "            daftar_nilai_baru.append(item)\n",
    "\n",
    "    if len(daftar_nilai_baru) == len(daftar_nilai):\n",
    "        return daftar_nilai_baru\n",
    "    else:\n",
    "        print(f\"Mata kuliah {nama_matkul} tidak ditemukan dalam daftar!\")\n",
    "        return daftar_nilai\n",
    "    # TO-DO 2, fungsi memberikan hasil\n",
    "\n",
    "# Panggil fungsi tambah_nilai\n",
    "nilai_baru = tambah_nilai('Mobile', 15, nilai)\n",
    "\n",
    "# Cek nilai awal\n",
    "print(\"Nilai awal: \", nilai)\n",
    "\n",
    "# Cek nilai hasil tambah_nilai\n",
    "print(\"Nilai update: \", nilai_baru)\n"
   ]
  },
  {
   "cell_type": "code",
   "execution_count": 17,
   "metadata": {},
   "outputs": [
    {
     "name": "stdout",
     "output_type": "stream",
     "text": [
      "Ganjil\n",
      "{'matkul': 'Fungsional', 'nilai': 95}\n",
      "{'matkul': 'Mobile', 'nilai': 55}\n"
     ]
    }
   ],
   "source": [
    "#TO-DO 1: deklarasi fungsi\n",
    "def cetak_nilai(param):\n",
    "    # TO-DO 2: loop/iterasi data\n",
    "    for x in param:\n",
    "      yield x\n",
    "        #TO-DO 3: output fungsi\n",
    "\n",
    "# Panggil fungsi cetak_nilai\n",
    "# TO-DO 4\n",
    "generator_nilai = cetak_nilai(nilai)\n",
    "\n",
    "#TO-DO 5: tampilkan data/print out generator\n",
    "#NIM ganjil: menggunakan loop for\n",
    "#NIM genap: menggunakan next()\n",
    "\n",
    "nim_input = input('Masukkan NIM Anda: ')\n",
    "\n",
    "if int(nim_input) % 2 == 0:\n",
    "  print('Genap')\n",
    "  print(next(generator_nilai))\n",
    "  print(next(generator_nilai))\n",
    "else:\n",
    "  print('Ganjil')\n",
    "  for x in generator_nilai:\n",
    "    print(x)\n"
   ]
  },
  {
   "cell_type": "markdown",
   "metadata": {},
   "source": [
    "Codelab2"
   ]
  },
  {
   "cell_type": "code",
   "execution_count": 30,
   "metadata": {},
   "outputs": [],
   "source": [
    "data_mahasiswa = [\n",
    "    {'nama': 'Karina', 'matkul': 'Pemrograman Fungsional', 'nilai': 90},\n",
    "    {'nama': 'Seulgi', 'matkul': 'Pemrograman Mobile', 'nilai': 56},\n",
    "    {'nama': 'Wonyoung', 'matkul': 'Pemrograman Web', 'nilai': 95},\n",
    "    {'nama': 'Hanni', 'matkul': 'Piranti Cerdas', 'nilai': 88},\n",
    "    {'nama': 'Jihyo', 'matkul': 'Jaringan Komputer', 'nilai': 63},\n",
    "]\n",
    "\n"
   ]
  },
  {
   "cell_type": "code",
   "execution_count": 27,
   "metadata": {},
   "outputs": [
    {
     "name": "stdout",
     "output_type": "stream",
     "text": [
      "Rata-rata nilai kelima mahasiswa tersebut adalah:  78.4\n"
     ]
    }
   ],
   "source": [
    "#TO-DO 1: deklarasi fungsi\n",
    "def rata_rata(data):\n",
    "  #TO-DO 2: proses hitung rata-rata\n",
    "  total = 0\n",
    "\n",
    "  for mahasiswa in data:\n",
    "    total += mahasiswa['nilai']\n",
    "\n",
    "  if len(data) > 0:\n",
    "    avg= total/len(data)\n",
    "  else:\n",
    "    avg = None\n",
    "  return avg#TO-DO 3\n",
    "\n",
    "#TO-DO 4: panggil fungsi rata_rata() dan tampilkan hasilnya\n",
    "hasil_rata_rata = rata_rata(data_mahasiswa)\n",
    "print(\"Rata-rata nilai kelima mahasiswa tersebut adalah: \", hasil_rata_rata)"
   ]
  },
  {
   "cell_type": "code",
   "execution_count": 28,
   "metadata": {},
   "outputs": [
    {
     "name": "stdout",
     "output_type": "stream",
     "text": [
      "Data kelulusan mahasiswa=\n",
      "{'nama': 'Karina', 'matkul': 'Pemrograman Fungsional', 'nilai': 'sempurna'}\n",
      "{'nama': 'Seulgi', 'matkul': 'Pemrograman Mobile', 'nilai': 'gagal'}\n",
      "{'nama': 'Wonyoung', 'matkul': 'Pemrograman Web', 'nilai': 'sempurna'}\n",
      "{'nama': 'Hanni', 'matkul': 'Piranti Cerdas', 'nilai': 'sempurna'}\n",
      "{'nama': 'Jihyo', 'matkul': 'Jaringan Komputer', 'nilai': 'memenuhi'}\n"
     ]
    }
   ],
   "source": [
    "#TO-DO 1: deklarasi fungsi\n",
    "def kelulusan(param):\n",
    "  #TO-DO 2: buat salinan data baru agar tidak merubah data asli (effect-free)\n",
    "  data_mahasiswa_copy = param.copy()\n",
    "  #TO_DO 3: ubah data nilai sesuai ketentuan\n",
    "    #iterasi data\n",
    "      #pengecekan kondisi\n",
    "        #change data\n",
    "  for mahasiswa in data_mahasiswa_copy:\n",
    "      if mahasiswa['nilai'] > 85:\n",
    "        mahasiswa['nilai'] = 'sempurna'\n",
    "      elif mahasiswa['nilai'] >= 60:\n",
    "        mahasiswa['nilai'] = 'memenuhi'\n",
    "      else:\n",
    "        mahasiswa['nilai'] = 'gagal'\n",
    "\n",
    "  return data_mahasiswa_copy#TO-DO 4: output fungsi\n",
    "\n",
    "#TO-DO 5: panggil fungsi dan tampilkan hasilnya\n",
    "result = kelulusan(data_mahasiswa)\n",
    "print(\"Data kelulusan mahasiswa=\")\n",
    "for mahasiswa in result:\n",
    "    print(mahasiswa)\n"
   ]
  },
  {
   "cell_type": "code",
   "execution_count": 31,
   "metadata": {},
   "outputs": [
    {
     "name": "stdout",
     "output_type": "stream",
     "text": [
      "Nilai ganjil:\n",
      "{'nama': 'Wonyoung', 'matkul': 'Pemrograman Web', 'nilai': 95}\n",
      "{'nama': 'Jihyo', 'matkul': 'Jaringan Komputer', 'nilai': 63}\n"
     ]
    }
   ],
   "source": [
    "\n",
    "# TO_DO 1: deklarasi fungsi generator\n",
    "def func_name(param):\n",
    "    # TO-DO 2: isi fungsi\n",
    "    for data in param:\n",
    "        if 'nilai' in data and isinstance(data['nilai'], (int, float)):\n",
    "            if data['nilai'] % 2 == 1:  # Filter nilai ganjil\n",
    "                yield data   # TO-DO 3: output fungsi\n",
    "\n",
    "# TO_DO 4: panggil fungsi generator untuk membuat generator object yang berisi data mahasiswa dengan nilai ganjil sesuai nim anda\n",
    "var = func_name(data_mahasiswa)\n",
    "\n",
    "# TO_DO 5: menampilkan/print hasil dari generator object\n",
    "print(\"Nilai ganjil:\")\n",
    "for item in var:\n",
    "    print(item)"
   ]
  },
  {
   "cell_type": "markdown",
   "metadata": {},
   "source": [
    "codelab3"
   ]
  },
  {
   "cell_type": "code",
   "execution_count": 34,
   "metadata": {},
   "outputs": [
    {
     "name": "stdout",
     "output_type": "stream",
     "text": [
      "10 data pertama : 13\n",
      "0 13 26 39 52 65 78 91 104 117 "
     ]
    }
   ],
   "source": [
    "# TO_DO 1: menerima input tanggal lahir\n",
    "tanggal_lahir = int(input(\"Masukkan tanggal lahir: \"))\n",
    "\n",
    "# TO_DO 2: membuat generator expression untuk menyimpan kelipatan dari tanggal lahir\n",
    "generator_kelipatan = (i for i in range(0,1000) if i % tanggal_lahir == 0)\n",
    "\n",
    "# TO_DO 3: mencetak hasil 10 data pertama\n",
    "print(\"10 data pertama :\", tanggal_lahir)\n",
    "for _ in range(10):\n",
    "    print(next(generator_kelipatan), end=\" \")\n"
   ]
  }
 ],
 "metadata": {
  "kernelspec": {
   "display_name": "Python 3",
   "language": "python",
   "name": "python3"
  },
  "language_info": {
   "codemirror_mode": {
    "name": "ipython",
    "version": 3
   },
   "file_extension": ".py",
   "mimetype": "text/x-python",
   "name": "python",
   "nbconvert_exporter": "python",
   "pygments_lexer": "ipython3",
   "version": "3.12.2"
  }
 },
 "nbformat": 4,
 "nbformat_minor": 2
}
