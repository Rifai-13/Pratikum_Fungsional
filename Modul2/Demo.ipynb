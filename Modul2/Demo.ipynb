{
 "cells": [
  {
   "cell_type": "markdown",
   "metadata": {},
   "source": [
    "Demo tugas 2"
   ]
  },
  {
   "cell_type": "code",
   "execution_count": 65,
   "metadata": {},
   "outputs": [],
   "source": [
    "# Data penginapan dengan 3 tanggal berbeda dan 12 customer\n",
    "data_penginapan = [\n",
    "    {\"room_id\": \"GJ123\", \"cust_name\": \"Jobaiden\", \"expenses\": 175000, \"jumlah_hari\": 2, \"tanggal\": \"2024-08-13\"},\n",
    "    {\"room_id\": \"GJ124\", \"cust_name\": \"Obama\", \"expenses\": 120000, \"jumlah_hari\": 2, \"tanggal\": \"2024-08-13\"},\n",
    "    {\"room_id\": \"GJ125\", \"cust_name\": \"Tram\", \"expenses\": 140000, \"jumlah_hari\": 4, \"tanggal\": \"2024-08-13\"},\n",
    "    {\"room_id\": \"GJ126\", \"cust_name\": \"Kim jo un\", \"expenses\": 100000, \"jumlah_hari\": 1, \"tanggal\": \"2024-08-13\"},\n",
    "    {\"room_id\": \"GJ127\", \"cust_name\": \"wokwi\", \"expenses\": 170000, \"jumlah_hari\": 2, \"tanggal\": \"2024-08-14\"},\n",
    "    {\"room_id\": \"GJ128\", \"cust_name\": \"Gemoy\", \"expenses\": 150000, \"jumlah_hari\": 3, \"tanggal\": \"2024-08-14\"},\n",
    "    {\"room_id\": \"GJ129\", \"cust_name\": \"Janggar\", \"expenses\": 180000, \"jumlah_hari\": 1, \"tanggal\": \"2024-08-14\"},\n",
    "    {\"room_id\": \"GJ130\", \"cust_name\": \"Putin\", \"expenses\": 130000, \"jumlah_hari\": 2, \"tanggal\": \"2024-08-14\"},\n",
    "    {\"room_id\": \"GJ131\", \"cust_name\": \"Sultan\", \"expenses\": 165000, \"jumlah_hari\": 2, \"tanggal\": \"2024-08-15\"},\n",
    "    {\"room_id\": \"GJ132\", \"cust_name\": \"Hokage\", \"expenses\": 160000, \"jumlah_hari\": 3, \"tanggal\": \"2024-08-15\"},\n",
    "    {\"room_id\": \"GJ133\", \"cust_name\": \"Raikage\", \"expenses\": 170000, \"jumlah_hari\": 1, \"tanggal\": \"2024-08-15\"},\n",
    "    {\"room_id\": \"GJ134\", \"cust_name\": \"Mizukage\", \"expenses\": 140000, \"jumlah_hari\": 2, \"tanggal\": \"2024-08-15\"}\n",
    "]"
   ]
  },
  {
   "cell_type": "code",
   "execution_count": 66,
   "metadata": {},
   "outputs": [],
   "source": [
    "\n",
    "# Fungsi untuk mencari customer dan menghitung total tagihan\n",
    "def cari_customer(nama_customer):\n",
    "    result = list(filter(lambda x: x[\"cust_name\"].lower() == nama_customer.lower(), data_penginapan))\n",
    "    \n",
    "    if result:\n",
    "        for cust in result:\n",
    "            total_tagihan = cust[\"expenses\"] * cust[\"jumlah_hari\"]\n",
    "            print(f\"ID Kamar: {cust['room_id']}\")\n",
    "            print(f\"Tagihan: {cust['expenses']}\")\n",
    "            print(f\"Jumlah Orang: {cust['jumlah_hari']}\")\n",
    "            print(f\"Tanggal: {cust['tanggal']}\")\n",
    "            print(f\"Total Tagihan IDR: {total_tagihan}\")\n",
    "            print(\"---------------------------\")\n",
    "    else:\n",
    "        print(f\"Customer dengan nama '{nama_customer}' tidak ditemukan\")"
   ]
  },
  {
   "cell_type": "code",
   "execution_count": 67,
   "metadata": {},
   "outputs": [],
   "source": [
    "\n",
    "# Fungsi generator untuk menghitung rata-rata jumlah orang menginap tiap hari\n",
    "def rata_rata_menginap():\n",
    "    tanggal_data = {}\n",
    "    \n",
    "    for item in data_penginapan:\n",
    "        tanggal = item['tanggal']\n",
    "        if tanggal not in tanggal_data:\n",
    "            tanggal_data[tanggal] = []\n",
    "        tanggal_data[tanggal].append(item['jumlah_hari'])\n",
    "    \n",
    "    for tanggal, jumlah_list in tanggal_data.items():\n",
    "        rata_rata = sum(jumlah_list) / len(jumlah_list)\n",
    "        yield f\"Tanggal: {tanggal}, Rata-rata yang menginap: {rata_rata:.2f}\""
   ]
  },
  {
   "cell_type": "code",
   "execution_count": 68,
   "metadata": {},
   "outputs": [],
   "source": [
    "# Fungsi untuk menghitung total pendapatan dan jumlah customer tiap hari\n",
    "def total_pendapatan():\n",
    "    tanggal_data = {}\n",
    "    \n",
    "    for item in data_penginapan:\n",
    "        tanggal = item['tanggal']\n",
    "        if tanggal not in tanggal_data:\n",
    "            tanggal_data[tanggal] = {\"jumlah_customer\": 0, \"total_pendapatan\": 0}\n",
    "        \n",
    "        tanggal_data[tanggal][\"jumlah_customer\"] += 1\n",
    "        tanggal_data[tanggal][\"total_pendapatan\"] += item['expenses'] * item['jumlah_hari']\n",
    "    \n",
    "    for tanggal, data in tanggal_data.items():\n",
    "        print(f\"Tanggal: {tanggal}, Jumlah Customer: {data['jumlah_customer']}, Total Pendapatan: {data['total_pendapatan']}\")"
   ]
  },
  {
   "cell_type": "code",
   "execution_count": 69,
   "metadata": {},
   "outputs": [
    {
     "name": "stdout",
     "output_type": "stream",
     "text": [
      "ID Kamar: GJ123\n",
      "Tagihan: 175000\n",
      "Jumlah Orang: 2\n",
      "Tanggal: 2024-08-13\n",
      "Total Tagihan IDR: 350000\n",
      "---------------------------\n"
     ]
    }
   ],
   "source": [
    "# Mencari customer\n",
    "nama_customer = input(\"Masukkan nama customer: \")\n",
    "cari_customer(nama_customer)\n"
   ]
  },
  {
   "cell_type": "code",
   "execution_count": 70,
   "metadata": {},
   "outputs": [
    {
     "name": "stdout",
     "output_type": "stream",
     "text": [
      "\n",
      "Menghitung rata-rata jumlah orang menginap berdasarkan tanggal (format YYYY-MM-DD):\n",
      "Tidak ada data untuk tanggal 20240813\n"
     ]
    }
   ],
   "source": [
    "# Fungsi generator untuk menghitung rata-rata jumlah orang menginap per tanggal (format YYYY-MM-DD)\n",
    "def rata_rata_menginap(tanggal_input):\n",
    "    total_hari_menginap = 0\n",
    "    total_customer = 0\n",
    "\n",
    "    for item in data_penginapan:\n",
    "        if item['tanggal'] == tanggal_input:  # Membandingkan tanggal\n",
    "            total_hari_menginap += item['jumlah_hari']\n",
    "            total_customer += 1\n",
    "    \n",
    "    if total_customer > 0:\n",
    "        rata_rata = total_hari_menginap / total_customer\n",
    "        yield f\"Tanggal: {tanggal_input}, rata-rata yang menginap: {rata_rata:.2f}\"\n",
    "    else:\n",
    "        yield f\"Tidak ada data untuk tanggal {tanggal_input}\"\n",
    "\n",
    "# Contoh penggunaan generator untuk menghitung rata-rata menginap\n",
    "print(\"\\nMenghitung rata-rata jumlah orang menginap berdasarkan tanggal (format YYYY-MM-DD):\")\n",
    "tanggal_input = input(\"Masukkan tanggal (format YYYY-MM-DD): \")\n",
    "\n",
    "# Menampilkan hasil dari generator\n",
    "for hasil in rata_rata_menginap(tanggal_input):\n",
    "    print(hasil)\n"
   ]
  },
  {
   "cell_type": "code",
   "execution_count": 71,
   "metadata": {},
   "outputs": [
    {
     "name": "stdout",
     "output_type": "stream",
     "text": [
      "\n",
      "Total pendapatan per tanggal (berdasarkan tanggal lengkap):\n",
      "Tanggal: 2024-08-13, Total Pendapatan IDR: 1250000\n",
      "Tanggal: 2024-08-14, Total Pendapatan IDR: 1230000\n",
      "Tanggal: 2024-08-15, Total Pendapatan IDR: 1260000\n"
     ]
    }
   ],
   "source": [
    "# Fungsi untuk menghitung total pendapatan berdasarkan tanggal lengkap (YYYY-MM-DD)\n",
    "def total_pendapatan_per_tanggal():\n",
    "    tanggal_data = {}  # Menyimpan total pendapatan berdasarkan tanggal lengkap\n",
    "\n",
    "    for item in data_penginapan:\n",
    "        tanggal = item['tanggal']  # Mengambil tanggal lengkap\n",
    "        \n",
    "        # Jika tanggal belum ada di dictionary, inisialisasi dengan 0\n",
    "        if tanggal not in tanggal_data:\n",
    "            tanggal_data[tanggal] = 0\n",
    "        \n",
    "        # Menambahkan total pengeluaran untuk tanggal tersebut\n",
    "        tanggal_data[tanggal] += item['expenses'] * item['jumlah_hari']\n",
    "    \n",
    "    # Menampilkan hasil total pendapatan untuk setiap tanggal\n",
    "    for tanggal, total in tanggal_data.items():\n",
    "        print(f\"Tanggal: {tanggal}, Total Pendapatan IDR: {total}\")\n",
    "\n",
    "# Contoh penggunaan untuk menghitung total pendapatan per tanggal\n",
    "print(\"\\nTotal pendapatan per tanggal (berdasarkan tanggal lengkap):\")\n",
    "total_pendapatan_per_tanggal()\n"
   ]
  }
 ],
 "metadata": {
  "kernelspec": {
   "display_name": "Python 3",
   "language": "python",
   "name": "python3"
  },
  "language_info": {
   "codemirror_mode": {
    "name": "ipython",
    "version": 3
   },
   "file_extension": ".py",
   "mimetype": "text/x-python",
   "name": "python",
   "nbconvert_exporter": "python",
   "pygments_lexer": "ipython3",
   "version": "3.12.2"
  }
 },
 "nbformat": 4,
 "nbformat_minor": 2
}
