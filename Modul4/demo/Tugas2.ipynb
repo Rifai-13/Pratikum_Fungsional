{
 "cells": [
  {
   "cell_type": "markdown",
   "metadata": {},
   "source": [
    "inputan user yang menerima string yang dipisahkan koma, dan ubah petakkan inputan menjadi titik-titik (x,y)"
   ]
  },
  {
   "cell_type": "code",
   "execution_count": 10,
   "metadata": {},
   "outputs": [
    {
     "name": "stdout",
     "output_type": "stream",
     "text": [
      "Daftar titik (x, y): [(1, 2), (3, 4), (5, 6), (7, 8), (9, 10)]\n"
     ]
    }
   ],
   "source": [
    "def parse_input(input_str):\n",
    "    try:\n",
    "        # Memisahkan string input menjadi daftar angka dengan map dan split\n",
    "        numbers = list(map(int, input_str.split(',')))\n",
    "        \n",
    "        # Mengecek apakah jumlah angka genap\n",
    "        if len(numbers) % 2 != 0:\n",
    "            raise ValueError(\"Jumlah input ganjil, harus genap untuk membentuk pasangan (x, y).\")\n",
    "        \n",
    "        # Memetakan angka ke dalam pasangan titik (x, y)\n",
    "        points = [(numbers[i], numbers[i+1]) for i in range(0, len(numbers), 2)]\n",
    "        return points\n",
    "    \n",
    "    except ValueError as e:\n",
    "        print(f\"Error: {e}\")\n",
    "        return None\n",
    "\n",
    "# Meminta input dari pengguna\n",
    "input_str = input(\"Masukkan string angka yang dipisahkan koma: \")\n",
    "points = parse_input(input_str)\n",
    "\n",
    "# Menampilkan hasil jika parsing berhasil\n",
    "if points is not None:\n",
    "    print(\"Daftar titik (x, y):\", points)\n",
    "\n"
   ]
  },
  {
   "cell_type": "code",
   "execution_count": 12,
   "metadata": {},
   "outputs": [
    {
     "name": "stdout",
     "output_type": "stream",
     "text": [
      "Waktu eksekusi translate: 0.000000 detik\n",
      "Setelah Translasi: [(4, 9), (6, 11), (8, 13)]\n",
      "Waktu eksekusi rotate: 0.000000 detik\n",
      "Setelah Rotasi: [(-5.794228634059946, 7.964101615137755), (-6.526279441628824, 10.696152422706632), (-7.258330249197701, 13.42820323027551)]\n",
      "Waktu eksekusi dilate: 0.000000 detik\n",
      "Setelah Dilatasi: [(-8.691342951089919, 11.946152422706632), (-9.789419162443236, 16.044228634059948), (-10.88749537379655, 20.142304845413264)]\n"
     ]
    }
   ],
   "source": [
    "import math\n",
    "import time\n",
    "\n",
    "def execution_time(func):\n",
    "    def wrapper(*args, **kwargs):\n",
    "        start_time = time.time()  # Waktu mulai\n",
    "        result = func(*args, **kwargs)  # Menjalankan fungsi yang didekorasi\n",
    "        end_time = time.time()  # Waktu selesai\n",
    "        print(f\"Waktu eksekusi {func.__name__}: {end_time - start_time:.6f} detik\")\n",
    "        return result\n",
    "    return wrapper\n",
    "\n",
    "# Fungsi Translasi dengan dekorator\n",
    "@execution_time\n",
    "def translate(tx, ty):\n",
    "    def transformation(point):\n",
    "        x, y = point\n",
    "        return (x + tx, y + ty)\n",
    "    return transformation\n",
    "\n",
    "# Fungsi Rotasi dengan dekorator\n",
    "@execution_time\n",
    "def rotate(angle_degrees):\n",
    "    angle_radians = math.radians(angle_degrees)\n",
    "    cos_theta = math.cos(angle_radians)\n",
    "    sin_theta = math.sin(angle_radians)\n",
    "    \n",
    "    def transformation(point):\n",
    "        x, y = point\n",
    "        x_new = x * cos_theta - y * sin_theta\n",
    "        y_new = x * sin_theta + y * cos_theta\n",
    "        return (x_new, y_new)\n",
    "    \n",
    "    return transformation\n",
    "\n",
    "# Fungsi Dilatasi dengan dekorator\n",
    "@execution_time\n",
    "def dilate(scale_factor):\n",
    "    def transformation(point):\n",
    "        x, y = point\n",
    "        return (x * scale_factor, y * scale_factor)\n",
    "    return transformation\n",
    "\n",
    "# Daftar titik (x, y) contoh\n",
    "points = [(1, 2), (3, 4), (5, 6)]\n",
    "\n",
    "# Menerapkan transformasi secara berurutan\n",
    "# 1. Translasi dengan tx = 3 dan ty = 7\n",
    "translated_points = list(map(translate(3, 7), points))\n",
    "print(\"Setelah Translasi:\", translated_points)\n",
    "\n",
    "# 2. Rotasi sebesar 60 derajat\n",
    "rotated_points = list(map(rotate(60), translated_points))\n",
    "print(\"Setelah Rotasi:\", rotated_points)\n",
    "\n",
    "# 3. Dilatasi dengan faktor skala 1.5\n",
    "dilated_points = list(map(dilate(1.5), rotated_points))\n",
    "print(\"Setelah Dilatasi:\", dilated_points)\n"
   ]
  }
 ],
 "metadata": {
  "kernelspec": {
   "display_name": "Python 3",
   "language": "python",
   "name": "python3"
  },
  "language_info": {
   "codemirror_mode": {
    "name": "ipython",
    "version": 3
   },
   "file_extension": ".py",
   "mimetype": "text/x-python",
   "name": "python",
   "nbconvert_exporter": "python",
   "pygments_lexer": "ipython3",
   "version": "3.12.2"
  }
 },
 "nbformat": 4,
 "nbformat_minor": 2
}
