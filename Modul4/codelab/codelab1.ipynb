{
 "cells": [
  {
   "cell_type": "markdown",
   "metadata": {},
   "source": [
    "Codelab1"
   ]
  },
  {
   "cell_type": "code",
   "execution_count": 19,
   "metadata": {},
   "outputs": [
    {
     "name": "stdout",
     "output_type": "stream",
     "text": [
      "Total nilai: 1231\n",
      "Nilai tertinggi: 100\n",
      "Mahasiswa lulus: ['Zaidun', 'Suwarsono', 'Dedi', 'Diko', 'Rusdi', 'Diki', 'Ansori', 'Andri', 'Edi', 'Sutadi', 'Nyoto', 'Widodo']\n",
      "Nilai mahasiswa setelah update: {'Zaidun': 99, 'Suwarsono': 100, 'Dedi': 75, 'Diko': 88, 'Joko': 45, 'Rusdi': 78, 'Diki': 100, 'Ansori': 92, 'Andri': 76, 'Kahfi': 63, 'Edi': 77, 'Jokowi': 20, 'Sutadi': 90, 'Made': 60, 'Nyoto': 88, 'Widodo': 100}\n"
     ]
    }
   ],
   "source": [
    "from functools import reduce\n",
    "\n",
    "nilai_mahasiswa = {\n",
    "    'Zaidun' : 99,\n",
    "    'Suwarsono' : 100,\n",
    "    'Dedi' : 75,\n",
    "    'Diko' : 88,\n",
    "    'Joko' : 40,\n",
    "    'Rusdi' : 78,\n",
    "    'Diki' : 100,\n",
    "    'Ansori' : 92,\n",
    "    'Andri' : 76,\n",
    "    'Kahfi' : 58,\n",
    "    'Edi' : 77,\n",
    "    'Jokowi' : 15,\n",
    "    'Sutadi' : 90,\n",
    "    'Made' : 55,\n",
    "    'Nyoto' : 88,\n",
    "    'Widodo' : 100\n",
    "}\n",
    "# Jumlah total nilai mahasiswa\n",
    "total_nilai = reduce(lambda acc, nilai: acc + nilai, nilai_mahasiswa.values())\n",
    "\n",
    "# Nilai tertinggi di antara mahasiswa\n",
    "nilai_tertinggi = max(nilai_mahasiswa.values())\n",
    "\n",
    "# Mahasiswa yang lulus dengan nilai di atas atau sama dengan KKM (75)\n",
    "mahasiswa_lulus = list(filter(lambda nama: nilai_mahasiswa[nama] >= 75, nilai_mahasiswa))\n",
    "\n",
    "# Update nilai mahasiswa, tambah 5 poin untuk mahasiswa dengan nilai di bawah 75\n",
    "nilai_mahasiswa_update = dict(map(lambda item: (item[0], item[1] + 5 if item[1] < 75 else item[1]), nilai_mahasiswa.items()))\n",
    "\n",
    "# Tampilkan hasil\n",
    "print(\"Total nilai:\", total_nilai)\n",
    "print(\"Nilai tertinggi:\", nilai_tertinggi)\n",
    "print(\"Mahasiswa lulus:\", mahasiswa_lulus)\n",
    "print(\"Nilai mahasiswa setelah update:\", nilai_mahasiswa_update)"
   ]
  },
  {
   "cell_type": "markdown",
   "metadata": {},
   "source": [
    "codelab2"
   ]
  },
  {
   "cell_type": "code",
   "execution_count": null,
   "metadata": {},
   "outputs": [],
   "source": [
    "# Fungsi lambda untuk membuat papan catur\n",
    "create_chess_board = lambda width, height: [['o' if (i + j) % 2 == 0 else 'x' for i in range(width)] for j in range(height)]\n",
    "\n",
    "# Contoh penggunaan\n",
    "chess_board = create_chess_board(5, 5)\n",
    "for row in chess_board:\n",
    "    print(row)\n"
   ]
  },
  {
   "cell_type": "code",
   "execution_count": 11,
   "metadata": {},
   "outputs": [
    {
     "name": "stdout",
     "output_type": "stream",
     "text": [
      "['#', '+', '#', '+', '#']\n",
      "['+', '#', '+', '#', '+']\n",
      "['#', '+', '#', '+', '#']\n",
      "['+', '#', '+', '#', '+']\n",
      "['#', '+', '#', '+', '#']\n"
     ]
    }
   ],
   "source": [
    "# Menggunakan lambda untuk menggantikan fungsi change_element, change_row, dan change_board_pattern\n",
    "change_board_pattern = lambda chess_board: list(map(lambda row: list(map(lambda x: '#' if x == 'o' else '+', row)), chess_board))\n",
    "\n",
    "# Contoh penggunaan\n",
    "new_pattern_board = change_board_pattern(chess_board)\n",
    "for row in new_pattern_board:\n",
    "    print(row)\n"
   ]
  },
  {
   "cell_type": "code",
   "execution_count": null,
   "metadata": {},
   "outputs": [],
   "source": [
    "books = [\n",
    "    {'judul':'Pulang', 'penulis': 'Tere Liye', 'halaman': 400},\n",
    "    {'judul':'Kapan Nanti', 'penulis': 'Ziggy Z.', 'halaman': 142},\n",
    "    {'judul':'Namaku Alam', 'penulis': 'Leila S. Chudori', 'halaman': 448},\n",
    "    {'judul':'Origin', 'penulis': 'Dan Brown', 'halaman': 511},\n",
    "    {'judul':'Rumah Lebah', 'penulis': 'Ruwi Meita', 'halaman': 288},\n",
    "    {'judul':'Kubah', 'penulis': 'Ahmad Tohari', 'halaman': 184},\n",
    "    {'judul':'Dompet Ayah Sepatu Ibu', 'penulis': 'J. S. Khairen', 'halaman': 210},\n",
    "]"
   ]
  },
  {
   "cell_type": "code",
   "execution_count": null,
   "metadata": {},
   "outputs": [
    {
     "name": "stdout",
     "output_type": "stream",
     "text": [
      "Judul: Kapan Nanti, Penulis: Ziggy Z., Halaman: 142\n",
      "Judul: Kubah, Penulis: Ahmad Tohari, Halaman: 184\n"
     ]
    }
   ],
   "source": [
    "# TODO 1, Gunakan list comprehension untuk menyaring buku dari books yang judulnya diawali dengan huruf 'K'.\n",
    "filtered_books = [book for book in books if book['judul'].startswith('K')]\n",
    "\n",
    "# TODO 2, Cetak hasil buku yang tersaring\n",
    "# TODO 3, Gunakan loop untuk iterasi setiap buku di filtered_books.\n",
    "# TODO 4, Di dalam loop, cetak detail buku berupa judul, penulis, dan halaman.\n",
    "for book in filtered_books:\n",
    "    print(f\"Judul: {book['judul']}, Penulis: {book['penulis']}, Halaman: {book['halaman']}\")"
   ]
  },
  {
   "cell_type": "code",
   "execution_count": 20,
   "metadata": {},
   "outputs": [
    {
     "name": "stdout",
     "output_type": "stream",
     "text": [
      "Pulang\n",
      "Kapan Nanti\n",
      "Namaku Alam\n",
      "Origin\n",
      "Rumah Lebah\n",
      "Kubah\n",
      "Dompet Ayah Sepatu Ibu\n"
     ]
    }
   ],
   "source": [
    "# Definisikan fungsi untuk mendapatkan judul buku\n",
    "judul_buku_list = map(lambda book: book['judul'], books)\n",
    "\n",
    "# Cetak judul buku\n",
    "for judul in judul_buku_list:\n",
    "    print(judul)\n"
   ]
  },
  {
   "cell_type": "code",
   "execution_count": null,
   "metadata": {},
   "outputs": [
    {
     "name": "stdout",
     "output_type": "stream",
     "text": [
      "Judul: Pulang, Penulis: Tere Liye, Halaman: 400\n",
      "Judul: Namaku Alam, Penulis: Leila S. Chudori, Halaman: 448\n",
      "Judul: Origin, Penulis: Dan Brown, Halaman: 511\n",
      "Judul: Rumah Lebah, Penulis: Ruwi Meita, Halaman: 288\n",
      "Judul: Dompet Ayah Sepatu Ibu, Penulis: J. S. Khairen, Halaman: 210\n"
     ]
    }
   ],
   "source": [
    "# Definisikan fungsi untuk memeriksa jumlah halaman\n",
    "def lebih_200(book):\n",
    "    return book['halaman'] > 200\n",
    "\n",
    "# Gunakan list comprehension untuk menyaring buku dengan lebih dari 200 halaman\n",
    "books_200 = [book for book in books if lebih_200(book)]\n",
    "\n",
    "# Cetak hasil\n",
    "for book in books_200:\n",
    "    print(f\"Judul: {book['judul']}, Penulis: {book['penulis']}, Halaman: {book['halaman']}\")\n"
   ]
  },
  {
   "cell_type": "code",
   "execution_count": null,
   "metadata": {},
   "outputs": [
    {
     "name": "stdout",
     "output_type": "stream",
     "text": [
      "Total jumlah halaman semua buku: 2183\n"
     ]
    }
   ],
   "source": [
    "from functools import reduce\n",
    "\n",
    "# Definisikan fungsi untuk menghitung total halaman\n",
    "def hitung_halaman(total, book):\n",
    "    return total + book['halaman']\n",
    "\n",
    "# Gunakan reduce untuk menghitung total halaman\n",
    "total_halaman = reduce(hitung_halaman, books, 0)\n",
    "\n",
    "# Cetak total halaman\n",
    "print(f\"Total halaman semua buku: {total_halaman}\")\n"
   ]
  },
  {
   "cell_type": "markdown",
   "metadata": {},
   "source": [
    "codelab 3"
   ]
  },
  {
   "cell_type": "code",
   "execution_count": 16,
   "metadata": {},
   "outputs": [
    {
     "name": "stdout",
     "output_type": "stream",
     "text": [
      "Fungsi ini dipanggil\n",
      "Hello, World!\n"
     ]
    }
   ],
   "source": [
    "# TODO 1: Definisikan decorator 'simple_decorator'\n",
    "def simple_decorator(func):\n",
    "    # Wrapper (inner function)\n",
    "    def wrapper():\n",
    "        print(\"Fungsi ini dipanggil\")  # Output sebelum memanggil fungsi asli\n",
    "        func()  # Memanggil fungsi yang didekorasi\n",
    "    return wrapper  # Mengembalikan wrapper\n",
    "\n",
    "# TODO 2: Gunakan decorator pada fungsi 'hello'\n",
    "@simple_decorator\n",
    "def hello():\n",
    "    print(\"Hello, World!\")  # Fungsi yang akan didekorasi\n",
    "\n",
    "# TODO 3: Panggil fungsi 'hello' yang sudah didekorasi\n",
    "hello()\n"
   ]
  }
 ],
 "metadata": {
  "kernelspec": {
   "display_name": "Python 3",
   "language": "python",
   "name": "python3"
  },
  "language_info": {
   "codemirror_mode": {
    "name": "ipython",
    "version": 3
   },
   "file_extension": ".py",
   "mimetype": "text/x-python",
   "name": "python",
   "nbconvert_exporter": "python",
   "pygments_lexer": "ipython3",
   "version": "3.12.2"
  }
 },
 "nbformat": 4,
 "nbformat_minor": 2
}
